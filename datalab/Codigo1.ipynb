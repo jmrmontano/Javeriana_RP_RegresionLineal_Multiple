{
 "cells": [
  {
   "cell_type": "markdown",
   "metadata": {},
   "source": [
    "# Caso 1 y Caso 2\n",
    "\n",
    "Caso 1 - SVM con kernel polinomial y transformación binaria OVA\n",
    "\n",
    "Caso 2 - SVM con kernel polinomial y transformación binaria OVO"
   ]
  },
  {
   "cell_type": "code",
   "execution_count": null,
   "metadata": {},
   "outputs": [],
   "source": []
  }
 ],
 "metadata": {
  "kernelspec": {
   "display_name": "Python 3.9.13 64-bit (microsoft store)",
   "language": "python",
   "name": "python3"
  },
  "language_info": {
   "name": "python",
   "version": "3.9.13"
  },
  "orig_nbformat": 4,
  "vscode": {
   "interpreter": {
    "hash": "0714af7826c5296f4ab0e94a0c6a529a3c5bc36739c3334fafca465e465fa95d"
   }
  }
 },
 "nbformat": 4,
 "nbformat_minor": 2
}
